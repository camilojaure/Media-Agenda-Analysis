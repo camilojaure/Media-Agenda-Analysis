{
 "cells": [
  {
   "cell_type": "code",
   "execution_count": 1,
   "metadata": {},
   "outputs": [
    {
     "name": "stderr",
     "output_type": "stream",
     "text": [
      "C:\\ProgramData\\Anaconda3\\lib\\site-packages\\gensim\\utils.py:1212: UserWarning: detected Windows; aliasing chunkize to chunkize_serial\n",
      "  warnings.warn(\"detected Windows; aliasing chunkize to chunkize_serial\")\n"
     ]
    }
   ],
   "source": [
    "%matplotlib inline \n",
    "%load_ext autoreload\n",
    "%autoreload 2\n",
    "from collections import defaultdict\n",
    "import re\n",
    "import os\n",
    "import matplotlib.pyplot as plt\n",
    "import numpy as np\n",
    "import pandas as pd   \n",
    "\n",
    "# Analisis Tf-idf y NMF\n",
    "from sklearn.feature_extraction.text import CountVectorizer\n",
    "from sklearn.feature_extraction.text import TfidfTransformer\n",
    "#from sklearn.decomposition import LatentDirichletAllocation as LDA\n",
    "from sklearn.decomposition import NMF\n",
    "from sklearn.feature_extraction import text \n",
    "\n",
    "from gensim import corpora, models, similarities, matutils\n",
    "from gensim.models.word2vec import Word2Vec\n",
    "from gensim.models import KeyedVectors\n",
    "from gensim.matutils import cossim\n",
    "from nltk.corpus import stopwords\n",
    "from nltk import word_tokenize, sent_tokenize\n",
    "import pickle\n",
    "import random\n",
    "import sys\n",
    "from tqdm import tqdm\n",
    "from sklearn import manifold\n"
   ]
  },
  {
   "cell_type": "code",
   "execution_count": 4,
   "metadata": {},
   "outputs": [
    {
     "data": {
      "text/html": [
       "<div>\n",
       "<style scoped>\n",
       "    .dataframe tbody tr th:only-of-type {\n",
       "        vertical-align: middle;\n",
       "    }\n",
       "\n",
       "    .dataframe tbody tr th {\n",
       "        vertical-align: top;\n",
       "    }\n",
       "\n",
       "    .dataframe thead th {\n",
       "        text-align: right;\n",
       "    }\n",
       "</style>\n",
       "<table border=\"1\" class=\"dataframe\">\n",
       "  <thead>\n",
       "    <tr style=\"text-align: right;\">\n",
       "      <th></th>\n",
       "      <th>Unnamed: 0</th>\n",
       "      <th>cuerpo</th>\n",
       "      <th>fecha</th>\n",
       "      <th>seccion</th>\n",
       "      <th>titulo</th>\n",
       "    </tr>\n",
       "  </thead>\n",
       "  <tbody>\n",
       "    <tr>\n",
       "      <th>0</th>\n",
       "      <td>0</td>\n",
       "      <td>[&lt;p&gt;El ex jugador de Boca, ahora columnista en...</td>\n",
       "      <td>12/11/2018</td>\n",
       "      <td>deportes</td>\n",
       "      <td>El fuerte cruce entre Raúl Cascini y un period...</td>\n",
       "    </tr>\n",
       "    <tr>\n",
       "      <th>1</th>\n",
       "      <td>1</td>\n",
       "      <td>[&lt;p&gt;El gran ícono de los cómics estadounidense...</td>\n",
       "      <td>12/11/2018</td>\n",
       "      <td>tecno</td>\n",
       "      <td>Los \"hijos\" de Stan Lee: de Spiderman a Hulk, ...</td>\n",
       "    </tr>\n",
       "    <tr>\n",
       "      <th>2</th>\n",
       "      <td>2</td>\n",
       "      <td>[&lt;p&gt;Hay una cosa que tienen en común estas dos...</td>\n",
       "      <td>12/11/2018</td>\n",
       "      <td>salud</td>\n",
       "      <td>Bella Hadid copió el truco de Naomi Campbell p...</td>\n",
       "    </tr>\n",
       "    <tr>\n",
       "      <th>3</th>\n",
       "      <td>3</td>\n",
       "      <td>[&lt;p&gt;Investigan si el expresidente falsificó fa...</td>\n",
       "      <td>12/11/2018</td>\n",
       "      <td>política</td>\n",
       "      <td>Piden que Amado Boudou vaya a juicio oral por ...</td>\n",
       "    </tr>\n",
       "    <tr>\n",
       "      <th>4</th>\n",
       "      <td>4</td>\n",
       "      <td>[&lt;p&gt;El temporal se sintió con fuerza en la pro...</td>\n",
       "      <td>12/11/2018</td>\n",
       "      <td>sociedad</td>\n",
       "      <td>Un tornado azotó el norte de Sante Fe</td>\n",
       "    </tr>\n",
       "  </tbody>\n",
       "</table>\n",
       "</div>"
      ],
      "text/plain": [
       "   Unnamed: 0                                             cuerpo       fecha  \\\n",
       "0           0  [<p>El ex jugador de Boca, ahora columnista en...  12/11/2018   \n",
       "1           1  [<p>El gran ícono de los cómics estadounidense...  12/11/2018   \n",
       "2           2  [<p>Hay una cosa que tienen en común estas dos...  12/11/2018   \n",
       "3           3  [<p>Investigan si el expresidente falsificó fa...  12/11/2018   \n",
       "4           4  [<p>El temporal se sintió con fuerza en la pro...  12/11/2018   \n",
       "\n",
       "    seccion                                             titulo  \n",
       "0  deportes  El fuerte cruce entre Raúl Cascini y un period...  \n",
       "1     tecno  Los \"hijos\" de Stan Lee: de Spiderman a Hulk, ...  \n",
       "2     salud  Bella Hadid copió el truco de Naomi Campbell p...  \n",
       "3  política  Piden que Amado Boudou vaya a juicio oral por ...  \n",
       "4  sociedad              Un tornado azotó el norte de Sante Fe  "
      ]
     },
     "execution_count": 4,
     "metadata": {},
     "output_type": "execute_result"
    }
   ],
   "source": [
    "TN= pd.read_csv('TN_final.csv', sep= ';')\n",
    "#LPO= pd.read_csv('lpo.csv', error_bad_lines=False)\n",
    "#P12= pd.read_csv('p12.csv', error_bad_lines=False)\n",
    "TN.head()"
   ]
  },
  {
   "cell_type": "code",
   "execution_count": null,
   "metadata": {},
   "outputs": [],
   "source": [
    "texts = [TN, LPO, P12]"
   ]
  },
  {
   "cell_type": "code",
   "execution_count": null,
   "metadata": {},
   "outputs": [],
   "source": [
    "stop_words_extra = []\n",
    "stop_words = text.SPANISH_STOP_WORDS.union(stop_words_extra)"
   ]
  },
  {
   "cell_type": "code",
   "execution_count": null,
   "metadata": {},
   "outputs": [],
   "source": [
    "# Genero lo vectores de las notas\n",
    "count_vect = CountVectorizer(ngram_range = (1,3), max_df = 0.2, min_df = 0.01,stop_words=stop_words, lowercase=True)\n",
    "x_counts = count_vect.fit_transform(texts)"
   ]
  },
  {
   "cell_type": "code",
   "execution_count": null,
   "metadata": {},
   "outputs": [],
   "source": [
    "# Genero matriz con valorizacion tf-idf\n",
    "tfidf_transformer = TfidfTransformer(norm = 'l2')\n",
    "x_tfidf = tfidf_transformer.fit_transform(x_counts)"
   ]
  },
  {
   "cell_type": "code",
   "execution_count": null,
   "metadata": {},
   "outputs": [],
   "source": [
    "# impongo el número de  tópicos\n",
    "dim = 6"
   ]
  },
  {
   "cell_type": "code",
   "execution_count": null,
   "metadata": {},
   "outputs": [],
   "source": [
    "#Realizo NMF\n",
    "nmf = NMF(n_components = dim)\n",
    "nmf_array = nmf.fit_transform(x_tfidf)"
   ]
  },
  {
   "cell_type": "code",
   "execution_count": null,
   "metadata": {},
   "outputs": [],
   "source": [
    "# Labels de cada nota\n",
    "labels = [np.argmax(x) for x in nmf_array]"
   ]
  },
  {
   "cell_type": "code",
   "execution_count": null,
   "metadata": {},
   "outputs": [],
   "source": [
    "# Componentes y nombre de los feautures\n",
    "components = [nmf.components_[i] for i in range(len(nmf.components_))]\n",
    "features = count_vect.get_feature_names()\n",
    "\n",
    "for j in range(len(components)):\n",
    "\n",
    "    comp = components[j]\n",
    "\n",
    "    prior_features = sorted(features, key = lambda x: comp[features.index(x)], reverse = True)\n",
    "\n",
    "    # Guardo en archivos los features de cada componente ordenados por prioridad y \n",
    "    # las notas asociadas a cada tópico.\n",
    "    fp = open('NMFComponent{}.txt'.format(j),'a')\n",
    "    for k in prior_features:\n",
    "        fp.write('{}, '.format(k))\n",
    "    fp.close()\n",
    "    \n",
    "    \n",
    "    fp = open('NMFNotes{}.txt'.format(j),'a')\n",
    "    for k in range(len(labels)):\n",
    "        if labels[k] == j:\n",
    "            fp.write('{}, '.format(k))\n",
    "    fp.close()"
   ]
  }
 ],
 "metadata": {
  "kernelspec": {
   "display_name": "Python 3",
   "language": "python",
   "name": "python3"
  },
  "language_info": {
   "codemirror_mode": {
    "name": "ipython",
    "version": 3
   },
   "file_extension": ".py",
   "mimetype": "text/x-python",
   "name": "python",
   "nbconvert_exporter": "python",
   "pygments_lexer": "ipython3",
   "version": "3.7.0"
  }
 },
 "nbformat": 4,
 "nbformat_minor": 2
}
